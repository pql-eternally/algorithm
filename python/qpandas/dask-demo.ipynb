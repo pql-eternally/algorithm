{
 "cells": [
  {
   "cell_type": "code",
   "execution_count": 18,
   "id": "8867f0cf-aa51-4f09-b995-7e6154b6f7da",
   "metadata": {
    "tags": []
   },
   "outputs": [],
   "source": [
    "import dask.array as da\n",
    "from dask.diagnostics import ProgressBar, Profiler, ResourceProfiler, CacheProfiler, visualize\n",
    "\n",
    "# global register\n",
    "\n",
    "# 进度条\n",
    "pbar = ProgressBar()\n",
    "pbar.register()\n",
    "\n",
    "# 记录dask在执行过程中任务信息\n",
    "# profiler = Profiler()\n",
    "# profiler.register()\n",
    "\n",
    "# 资源分析器\n",
    "# rprof = ResourceProfiler(dt=0.5)\n",
    "# rprof.register()"
   ]
  },
  {
   "cell_type": "code",
   "execution_count": 15,
   "id": "2b238c07-8844-4d6e-96db-65620a61cd84",
   "metadata": {
    "tags": []
   },
   "outputs": [
    {
     "name": "stdout",
     "output_type": "stream",
     "text": [
      "[########################################] | 100% Completed | 5.15 sms\n",
      "[########################################] | 100% Completed | 5.21 s\n",
      "[########################################] | 100% Completed | 5.28 s\n",
      "[########################################] | 100% Completed | 5.38 s\n",
      "[########################################] | 100% Completed | 5.48 s\n"
     ]
    },
    {
     "data": {
      "text/plain": [
       "array([ 1.23336593,  0.54610472, -0.15107382, ...,  0.54846054,\n",
       "       -0.16946384, -0.74387274])"
      ]
     },
     "execution_count": 15,
     "metadata": {},
     "output_type": "execute_result"
    }
   ],
   "source": [
    "a = da.random.default_rng().normal(size=(5000, 5000), chunks=(1000, 1000))\n",
    "res = a.dot(a.T).mean(axis=0)\n",
    "\n",
    "with Profiler() as prof, ResourceProfiler(dt=0.25) as rprof, CacheProfiler() as cprof:\n",
    "    out = res.compute()\n",
    "    \n",
    "out"
   ]
  },
  {
   "cell_type": "code",
   "execution_count": 19,
   "id": "59ab0d2f-703a-44e3-b97c-0f15e3ba9e9b",
   "metadata": {
    "tags": []
   },
   "outputs": [
    {
     "data": {
      "text/html": [
       "<div style=\"display: table;\"><div style=\"display: table-row;\"><div style=\"display: table-cell;\"><b title=\"bokeh.models.plots.GridPlot\">GridPlot</b>(</div><div style=\"display: table-cell;\">id&nbsp;=&nbsp;'p1282', <span id=\"p1287\" style=\"cursor: pointer;\">&hellip;)</span></div></div><div class=\"p1286\" style=\"display: none;\"><div style=\"display: table-cell;\"></div><div style=\"display: table-cell;\">align&nbsp;=&nbsp;'auto',</div></div><div class=\"p1286\" style=\"display: none;\"><div style=\"display: table-cell;\"></div><div style=\"display: table-cell;\">aspect_ratio&nbsp;=&nbsp;None,</div></div><div class=\"p1286\" style=\"display: none;\"><div style=\"display: table-cell;\"></div><div style=\"display: table-cell;\">children&nbsp;=&nbsp;[(figure(id='p1046', ...), 0, 0), (figure(id='p1087', ...), 1, 0), (figure(id='p1141', ...), 2, 0)],</div></div><div class=\"p1286\" style=\"display: none;\"><div style=\"display: table-cell;\"></div><div style=\"display: table-cell;\">cols&nbsp;=&nbsp;None,</div></div><div class=\"p1286\" style=\"display: none;\"><div style=\"display: table-cell;\"></div><div style=\"display: table-cell;\">context_menu&nbsp;=&nbsp;None,</div></div><div class=\"p1286\" style=\"display: none;\"><div style=\"display: table-cell;\"></div><div style=\"display: table-cell;\">css_classes&nbsp;=&nbsp;[],</div></div><div class=\"p1286\" style=\"display: none;\"><div style=\"display: table-cell;\"></div><div style=\"display: table-cell;\">disabled&nbsp;=&nbsp;False,</div></div><div class=\"p1286\" style=\"display: none;\"><div style=\"display: table-cell;\"></div><div style=\"display: table-cell;\">flow_mode&nbsp;=&nbsp;'block',</div></div><div class=\"p1286\" style=\"display: none;\"><div style=\"display: table-cell;\"></div><div style=\"display: table-cell;\">height&nbsp;=&nbsp;None,</div></div><div class=\"p1286\" style=\"display: none;\"><div style=\"display: table-cell;\"></div><div style=\"display: table-cell;\">height_policy&nbsp;=&nbsp;'auto',</div></div><div class=\"p1286\" style=\"display: none;\"><div style=\"display: table-cell;\"></div><div style=\"display: table-cell;\">js_event_callbacks&nbsp;=&nbsp;{},</div></div><div class=\"p1286\" style=\"display: none;\"><div style=\"display: table-cell;\"></div><div style=\"display: table-cell;\">js_property_callbacks&nbsp;=&nbsp;{},</div></div><div class=\"p1286\" style=\"display: none;\"><div style=\"display: table-cell;\"></div><div style=\"display: table-cell;\">margin&nbsp;=&nbsp;None,</div></div><div class=\"p1286\" style=\"display: none;\"><div style=\"display: table-cell;\"></div><div style=\"display: table-cell;\">max_height&nbsp;=&nbsp;None,</div></div><div class=\"p1286\" style=\"display: none;\"><div style=\"display: table-cell;\"></div><div style=\"display: table-cell;\">max_width&nbsp;=&nbsp;None,</div></div><div class=\"p1286\" style=\"display: none;\"><div style=\"display: table-cell;\"></div><div style=\"display: table-cell;\">min_height&nbsp;=&nbsp;None,</div></div><div class=\"p1286\" style=\"display: none;\"><div style=\"display: table-cell;\"></div><div style=\"display: table-cell;\">min_width&nbsp;=&nbsp;None,</div></div><div class=\"p1286\" style=\"display: none;\"><div style=\"display: table-cell;\"></div><div style=\"display: table-cell;\">name&nbsp;=&nbsp;None,</div></div><div class=\"p1286\" style=\"display: none;\"><div style=\"display: table-cell;\"></div><div style=\"display: table-cell;\">resizable&nbsp;=&nbsp;False,</div></div><div class=\"p1286\" style=\"display: none;\"><div style=\"display: table-cell;\"></div><div style=\"display: table-cell;\">rows&nbsp;=&nbsp;None,</div></div><div class=\"p1286\" style=\"display: none;\"><div style=\"display: table-cell;\"></div><div style=\"display: table-cell;\">sizing_mode&nbsp;=&nbsp;None,</div></div><div class=\"p1286\" style=\"display: none;\"><div style=\"display: table-cell;\"></div><div style=\"display: table-cell;\">spacing&nbsp;=&nbsp;0,</div></div><div class=\"p1286\" style=\"display: none;\"><div style=\"display: table-cell;\"></div><div style=\"display: table-cell;\">styles&nbsp;=&nbsp;{},</div></div><div class=\"p1286\" style=\"display: none;\"><div style=\"display: table-cell;\"></div><div style=\"display: table-cell;\">stylesheets&nbsp;=&nbsp;[],</div></div><div class=\"p1286\" style=\"display: none;\"><div style=\"display: table-cell;\"></div><div style=\"display: table-cell;\">subscribed_events&nbsp;=&nbsp;PropertyValueSet(),</div></div><div class=\"p1286\" style=\"display: none;\"><div style=\"display: table-cell;\"></div><div style=\"display: table-cell;\">syncable&nbsp;=&nbsp;True,</div></div><div class=\"p1286\" style=\"display: none;\"><div style=\"display: table-cell;\"></div><div style=\"display: table-cell;\">tags&nbsp;=&nbsp;[],</div></div><div class=\"p1286\" style=\"display: none;\"><div style=\"display: table-cell;\"></div><div style=\"display: table-cell;\">toolbar&nbsp;=&nbsp;Toolbar(id='p1281', ...),</div></div><div class=\"p1286\" style=\"display: none;\"><div style=\"display: table-cell;\"></div><div style=\"display: table-cell;\">toolbar_location&nbsp;=&nbsp;'above',</div></div><div class=\"p1286\" style=\"display: none;\"><div style=\"display: table-cell;\"></div><div style=\"display: table-cell;\">visible&nbsp;=&nbsp;True,</div></div><div class=\"p1286\" style=\"display: none;\"><div style=\"display: table-cell;\"></div><div style=\"display: table-cell;\">width&nbsp;=&nbsp;None,</div></div><div class=\"p1286\" style=\"display: none;\"><div style=\"display: table-cell;\"></div><div style=\"display: table-cell;\">width_policy&nbsp;=&nbsp;'auto')</div></div></div>\n",
       "<script>\n",
       "(function() {\n",
       "  let expanded = false;\n",
       "  const ellipsis = document.getElementById(\"p1287\");\n",
       "  ellipsis.addEventListener(\"click\", function() {\n",
       "    const rows = document.getElementsByClassName(\"p1286\");\n",
       "    for (let i = 0; i < rows.length; i++) {\n",
       "      const el = rows[i];\n",
       "      el.style.display = expanded ? \"none\" : \"table-row\";\n",
       "    }\n",
       "    ellipsis.innerHTML = expanded ? \"&hellip;)\" : \"&lsaquo;&lsaquo;&lsaquo;\";\n",
       "    expanded = !expanded;\n",
       "  });\n",
       "})();\n",
       "</script>\n"
      ],
      "text/plain": [
       "GridPlot(id='p1282', ...)"
      ]
     },
     "execution_count": 19,
     "metadata": {},
     "output_type": "execute_result"
    }
   ],
   "source": [
    "visualize([prof, rprof, cprof])"
   ]
  },
  {
   "cell_type": "code",
   "execution_count": 20,
   "id": "b05bd0ed-6fbb-47cc-9398-29c39da4a370",
   "metadata": {
    "tags": []
   },
   "outputs": [],
   "source": [
    "from dask.threaded import get\n",
    "from operator import add\n",
    "\n",
    "dsk = {\n",
    "    'x': 1,\n",
    "    'y': 2,\n",
    "    'z': (add, 'x', 'y'),\n",
    "    'w': (sum, ['x', 'y', 'z'])\n",
    "}"
   ]
  },
  {
   "cell_type": "code",
   "execution_count": 21,
   "id": "f0540041-431a-446f-a82c-33f02e8059b9",
   "metadata": {
    "tags": []
   },
   "outputs": [
    {
     "name": "stdout",
     "output_type": "stream",
     "text": [
      "[########################################] | 100% Completed | 689.89 ms\n",
      "[########################################] | 100% Completed | 768.11 ms\n",
      "[########################################] | 100% Completed | 846.33 ms\n",
      "[########################################] | 100% Completed | 855.35 ms\n",
      "[########################################] | 100% Completed | 947.98 ms\n",
      "[########################################] | 100% Completed | 996.69 ms\n",
      "[########################################] | 100% Completed | 1.06 s\n"
     ]
    },
    {
     "data": {
      "text/plain": [
       "1"
      ]
     },
     "execution_count": 21,
     "metadata": {},
     "output_type": "execute_result"
    }
   ],
   "source": [
    "get(dsk, 'x')"
   ]
  },
  {
   "cell_type": "code",
   "execution_count": 22,
   "id": "da8d0563-c177-42a1-81f2-d25217af5d23",
   "metadata": {
    "tags": []
   },
   "outputs": [
    {
     "name": "stdout",
     "output_type": "stream",
     "text": [
      "[########################################] | 100% Completed | 632.34 ms\n",
      "[########################################] | 100% Completed | 729.03 ms\n",
      "[########################################] | 100% Completed | 732.40 ms\n",
      "[########################################] | 100% Completed | 835.18 ms\n",
      "[########################################] | 100% Completed | 936.31 ms\n",
      "[########################################] | 100% Completed | 1.04 s\n",
      "[########################################] | 100% Completed | 1.14 s\n"
     ]
    },
    {
     "data": {
      "text/plain": [
       "3"
      ]
     },
     "execution_count": 22,
     "metadata": {},
     "output_type": "execute_result"
    }
   ],
   "source": [
    "get(dsk, 'z')"
   ]
  },
  {
   "cell_type": "code",
   "execution_count": 23,
   "id": "bf5f9c1a-21dd-4665-91ea-f33e1f688401",
   "metadata": {
    "tags": []
   },
   "outputs": [
    {
     "name": "stdout",
     "output_type": "stream",
     "text": [
      "[########################################] | 100% Completed | 529.42 ms\n",
      "[########################################] | 100% Completed | 536.09 ms\n",
      "[########################################] | 100% Completed | 639.56 ms\n",
      "[########################################] | 100% Completed | 743.12 ms\n",
      "[########################################] | 100% Completed | 836.59 ms\n",
      "[########################################] | 100% Completed | 857.08 ms\n",
      "[########################################] | 100% Completed | 856.61 ms\n"
     ]
    },
    {
     "data": {
      "text/plain": [
       "6"
      ]
     },
     "execution_count": 23,
     "metadata": {},
     "output_type": "execute_result"
    }
   ],
   "source": [
    "get(dsk, 'w')"
   ]
  },
  {
   "cell_type": "code",
   "execution_count": 24,
   "id": "2a2a20a6-3270-4f76-9e57-78c9b7f099f4",
   "metadata": {
    "tags": []
   },
   "outputs": [
    {
     "name": "stdout",
     "output_type": "stream",
     "text": [
      "[########################################] | 100% Completed | 633.14 ms\n",
      "[########################################] | 100% Completed | 735.97 ms\n",
      "[########################################] | 100% Completed | 841.20 ms\n",
      "[########################################] | 100% Completed | 939.05 ms\n",
      "[########################################] | 100% Completed | 938.62 ms\n",
      "[########################################] | 100% Completed | 1.03 s\n",
      "[########################################] | 100% Completed | 1.03 s\n"
     ]
    },
    {
     "data": {
      "text/plain": [
       "((1, 2), (3, 6))"
      ]
     },
     "execution_count": 24,
     "metadata": {},
     "output_type": "execute_result"
    }
   ],
   "source": [
    "get(dsk, [['x', 'y'], ['z', 'w']])"
   ]
  },
  {
   "cell_type": "code",
   "execution_count": null,
   "id": "64b7f04b-4280-4867-b109-fc6cb7a8a133",
   "metadata": {},
   "outputs": [],
   "source": []
  }
 ],
 "metadata": {
  "kernelspec": {
   "display_name": "Python 3 (ipykernel)",
   "language": "python",
   "name": "python3"
  },
  "language_info": {
   "codemirror_mode": {
    "name": "ipython",
    "version": 3
   },
   "file_extension": ".py",
   "mimetype": "text/x-python",
   "name": "python",
   "nbconvert_exporter": "python",
   "pygments_lexer": "ipython3",
   "version": "3.11.4"
  }
 },
 "nbformat": 4,
 "nbformat_minor": 5
}
